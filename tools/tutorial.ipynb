{
 "cells": [
  {
   "cell_type": "code",
   "execution_count": 21,
   "id": "initial_id",
   "metadata": {
    "collapsed": true,
    "ExecuteTime": {
     "end_time": "2024-03-14T19:56:00.814230Z",
     "start_time": "2024-03-14T19:56:00.793161Z"
    }
   },
   "outputs": [
    {
     "name": "stdout",
     "output_type": "stream",
     "text": [
      "The autoreload extension is already loaded. To reload it, use:\n",
      "  %reload_ext autoreload\n",
      "======\n",
      "Loading nuImages tables for version v1.0-mini...\n",
      "Done loading in 0.000 seconds (lazy=True).\n",
      "======\n"
     ]
    }
   ],
   "source": [
    "%matplotlib inline\n",
    "%load_ext autoreload\n",
    "%autoreload 2\n",
    "from nuimages import NuImages\n",
    "from lib.config import CONF\n",
    "\n",
    "nuim = NuImages(dataroot=CONF.PATH.DATA , version=CONF.data.version, verbose=True, lazy=True)"
   ]
  },
  {
   "cell_type": "code",
   "outputs": [],
   "source": [
    "print('sample数量', len(nuim.sample))\n",
    "sample = nuim.sample[0]\n",
    "print(sample)\n",
    "print('sample_data数量', len(nuim.sample_data))\n",
    "sample_data = nuim.get('sample_data', sample['key_camera_token'])\n",
    "print(sample_data)"
   ],
   "metadata": {
    "collapsed": false
   },
   "id": "54dfad5ff3f63917",
   "execution_count": null
  },
  {
   "cell_type": "code",
   "outputs": [],
   "source": [
    "print(len(nuim.sample_data))\n",
    "sample_data = nuim.sample_data[0]\n",
    "print(sample_data)\n",
    "sample = nuim.get('sample', sample_data['sample_token'])\n",
    "print(sample)"
   ],
   "metadata": {
    "collapsed": false
   },
   "id": "5a682e188d2374c4",
   "execution_count": null
  },
  {
   "cell_type": "code",
   "outputs": [],
   "source": [
    "object_tokens, _ = nuim.list_anns(sample['token'])"
   ],
   "metadata": {
    "collapsed": false
   },
   "id": "2139f4d337f20ecb",
   "execution_count": null
  },
  {
   "cell_type": "code",
   "outputs": [],
   "source": [
    "import os\n",
    "file_path = sample_data['filename']\n",
    "print(file_path)\n",
    "dataroot=CONF.PATH.DATA_MINI\n",
    "img_path = os.path.join(dataroot, file_path)\n",
    "print(img_path)"
   ],
   "metadata": {
    "collapsed": false
   },
   "id": "1d19b851472ca150",
   "execution_count": null
  },
  {
   "cell_type": "code",
   "outputs": [],
   "source": [
    "object = nuim.get('object_ann', object_tokens[5])\n",
    "print(object)"
   ],
   "metadata": {
    "collapsed": false
   },
   "id": "3502697334c0af96",
   "execution_count": null
  },
  {
   "cell_type": "code",
   "outputs": [],
   "source": [
    "list = nuim.category\n",
    "print(nuim.category)\n",
    "for i in range(len(list)):\n",
    "    print(f\"'{list[i]['token']}': {i},\")\n",
    "\n",
    "for i in range(len(list)):\n",
    "    print(f\"{i}: '{list[i]['name']}',\") "
   ],
   "metadata": {
    "collapsed": false
   },
   "id": "26f7e5cda6bcbef9",
   "execution_count": null
  },
  {
   "cell_type": "code",
   "outputs": [],
   "source": [
    "import cv2\n",
    "\n",
    "def display_image_with_bbox(image_path, bbox):\n",
    "    # 读取图像\n",
    "    image = cv2.imread(image_path)\n",
    "    \n",
    "    # 提取 bounding box 的坐标\n",
    "    xmin, ymin, xmax, ymax = bbox\n",
    "    \n",
    "    # 在图像上绘制 bounding box\n",
    "    cv2.rectangle(image, (int(xmin), int(ymin)), (int(xmax), int(ymax)), (0, 255, 0), 2)\n",
    "    \n",
    "    # 显示图像\n",
    "    cv2.imshow('Image with Bounding Box', image)\n",
    "    cv2.waitKey(0)\n",
    "    cv2.destroyAllWindows()\n",
    "\n",
    "# 图片路径\n",
    "image_path = img_path\n",
    "\n",
    "# bounding box 坐标 [xmin, ymin, xmax, ymax]\n",
    "bbox = object['bbox']\n",
    "\n",
    "# 显示图像及 bounding box\n",
    "display_image_with_bbox(image_path, bbox)\n"
   ],
   "metadata": {
    "collapsed": false
   },
   "id": "1498989ae46d5300",
   "execution_count": null
  },
  {
   "cell_type": "code",
   "outputs": [],
   "source": [
    "import matplotlib.pyplot as plt\n",
    "import matplotlib.image as mpimg\n",
    "\n",
    "# 读取图片\n",
    "img = mpimg.imread(img_path)\n",
    "\n",
    "# 创建一个新的图形\n",
    "fig, ax = plt.subplots()\n",
    "\n",
    "# 显示图片\n",
    "ax.imshow(img)\n",
    "\n",
    "# 添加坐标轴\n",
    "plt.xlabel('X Axis')\n",
    "plt.ylabel('Y Axis')\n",
    "\n",
    "# 显示bbox\n",
    "# 假设bbox为(xmin, ymin, xmax, ymax)\n",
    "bbox = object['bbox']  # 示例bbox坐标\n",
    "rect = plt.Rectangle((bbox[0], bbox[1]), bbox[2]-bbox[0], bbox[3]-bbox[1], edgecolor='r', facecolor='none')\n",
    "ax.add_patch(rect)\n",
    "\n",
    "# 显示\n",
    "plt.show()\n"
   ],
   "metadata": {
    "collapsed": false
   },
   "id": "89f7d92c231e3a29",
   "execution_count": null
  },
  {
   "cell_type": "code",
   "outputs": [],
   "source": [
    "import matplotlib.pyplot as plt\n",
    "import matplotlib.image as mpimg\n",
    "\n",
    "def convert_bbox_to_normalized(bbox, image_shape):\n",
    "    \"\"\"\n",
    "    Convert bounding box format from (xmin, ymin, xmax, ymax) to normalized (x_center, y_center, width, height).\n",
    "    \"\"\"\n",
    "    xmin, ymin, xmax, ymax = bbox\n",
    "    img_height, img_width = image_shape\n",
    "    x_center = (xmin + xmax) / (2 * img_width)\n",
    "    y_center = (ymin + ymax) / (2 * img_height)\n",
    "    width = (xmax - xmin) / img_width\n",
    "    height = (ymax - ymin) / img_height\n",
    "    return (x_center, y_center, width, height)\n",
    "\n",
    "obj_bbox = object['bbox']\n",
    "img_size = object['mask']['size']\n",
    "normalized_obj_bbox = convert_bbox_to_normalized(obj_bbox, img_size)\n",
    "# 读取图片\n",
    "img = mpimg.imread(img_path)\n",
    "\n",
    "# 创建一个新的图形\n",
    "fig, ax = plt.subplots()\n",
    "\n",
    "# 显示图片\n",
    "ax.imshow(img)\n",
    "\n",
    "# 添加坐标轴\n",
    "plt.xlabel('X Axis')\n",
    "plt.ylabel('Y Axis')\n",
    "\n",
    "# 显示归一化的bbox\n",
    "bbox_norm = normalized_obj_bbox  # 示例归一化bbox坐标\n",
    "img_height, img_width, _ = img.shape\n",
    "x_center = bbox_norm[0] * img_width\n",
    "y_center = bbox_norm[1] * img_height\n",
    "w = bbox_norm[2] * img_width\n",
    "h = bbox_norm[3] * img_height\n",
    "x_min = x_center - w / 2\n",
    "y_min = y_center - h / 2\n",
    "rect = plt.Rectangle((x_min, y_min), w, h, edgecolor='r', facecolor='none')\n",
    "ax.add_patch(rect)\n",
    "\n",
    "# 显示\n",
    "plt.show()\n"
   ],
   "metadata": {
    "collapsed": false
   },
   "id": "c41322617ef93509",
   "execution_count": null
  },
  {
   "cell_type": "code",
   "outputs": [],
   "source": [
    "object = nuim.get('object_ann', '0814a58ff2ce427a9efddb3ef70b490d')\n",
    "sample_data = nuim.get('sample_data', '4afb21eec056459f87f22525eb9b59b2')\n",
    "print(sample_data)\n"
   ],
   "metadata": {
    "collapsed": false
   },
   "id": "e3bed8811693afe",
   "execution_count": null
  },
  {
   "cell_type": "code",
   "outputs": [],
   "source": [
    "nuim.render_image('4afb21eec056459f87f22525eb9b59b2', annotation_type='all',\n",
    "                  with_category=True, with_attributes=True, box_line_width=-1, render_scale=5)"
   ],
   "metadata": {
    "collapsed": false
   },
   "id": "43a1215f9b3f7590",
   "execution_count": null
  },
  {
   "cell_type": "code",
   "outputs": [],
   "source": [],
   "metadata": {
    "collapsed": false
   },
   "id": "2222d387f4968472"
  }
 ],
 "metadata": {
  "kernelspec": {
   "display_name": "Python 3",
   "language": "python",
   "name": "python3"
  },
  "language_info": {
   "codemirror_mode": {
    "name": "ipython",
    "version": 2
   },
   "file_extension": ".py",
   "mimetype": "text/x-python",
   "name": "python",
   "nbconvert_exporter": "python",
   "pygments_lexer": "ipython2",
   "version": "2.7.6"
  }
 },
 "nbformat": 4,
 "nbformat_minor": 5
}
