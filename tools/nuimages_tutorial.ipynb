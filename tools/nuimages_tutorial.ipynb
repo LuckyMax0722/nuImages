{
 "cells": [
  {
   "cell_type": "code",
   "execution_count": 1,
   "id": "initial_id",
   "metadata": {
    "collapsed": true,
    "ExecuteTime": {
     "end_time": "2024-03-14T20:52:33.591937Z",
     "start_time": "2024-03-14T20:52:32.910633Z"
    }
   },
   "outputs": [
    {
     "name": "stdout",
     "output_type": "stream",
     "text": [
      "======\n",
      "Loading nuImages tables for version v1.0-mini...\n",
      "Done loading in 0.000 seconds (lazy=True).\n",
      "======\n"
     ]
    }
   ],
   "source": [
    "%matplotlib inline\n",
    "%load_ext autoreload\n",
    "%autoreload 2\n",
    "from nuimages import NuImages\n",
    "from lib.config import CONF\n",
    "\n",
    "nuim = NuImages(dataroot=CONF.PATH.DATA , version=CONF.data.version, verbose=True, lazy=True)"
   ]
  },
  {
   "cell_type": "code",
   "outputs": [
    {
     "name": "stdout",
     "output_type": "stream",
     "text": [
      "Loaded 50 sample(s) in 0.000s,\n",
      "sample数量 50\n",
      "{'token': '09acd654cb514bdeab8e3afedad74fca', 'timestamp': 1535352274870176, 'log_token': '4ed5d1230fcb48d39db895f754e724f9', 'key_camera_token': '0128b121887b4d0d86b8b1a43ac001e9'}\n",
      "Loaded 650 sample_data(s) in 0.001s,\n",
      "sample_data数量 650\n",
      "{'token': '0128b121887b4d0d86b8b1a43ac001e9', 'sample_token': '09acd654cb514bdeab8e3afedad74fca', 'ego_pose_token': 'f83112287e5447989a725a81d2417350', 'calibrated_sensor_token': 'e5c70a90001a5e9eb581dc010d13b11c', 'filename': 'samples/CAM_FRONT_RIGHT/n013-2018-08-27-14-41-26+0800__CAM_FRONT_RIGHT__1535352274870176.jpg', 'fileformat': 'jpg', 'width': 1600, 'height': 900, 'timestamp': 1535352274870176, 'is_key_frame': True, 'prev': '24614975bbb34bf385559d958df8008b', 'next': '5bdc01f564a14f0196817df2a53a41da'}\n"
     ]
    }
   ],
   "source": [
    "print('sample数量', len(nuim.sample))\n",
    "sample = nuim.sample[0]\n",
    "print(sample)\n",
    "print('sample_data数量', len(nuim.sample_data))\n",
    "sample_data = nuim.get('sample_data', sample['key_camera_token'])\n",
    "print(sample_data)"
   ],
   "metadata": {
    "collapsed": false,
    "ExecuteTime": {
     "end_time": "2024-03-14T20:52:34.393280Z",
     "start_time": "2024-03-14T20:52:34.376815Z"
    }
   },
   "id": "54dfad5ff3f63917",
   "execution_count": 2
  },
  {
   "cell_type": "code",
   "outputs": [
    {
     "name": "stdout",
     "output_type": "stream",
     "text": [
      "650\n",
      "{'token': '003bf191da774ac3b7c47e44075d9cf9', 'sample_token': 'd626e96768f44c2890c2a5693dd11ec4', 'ego_pose_token': '2c731fd2f92b4956b15cbeed160417c1', 'calibrated_sensor_token': 'd9480acc4135525dbcffb2a0db6d7c11', 'filename': 'samples/CAM_BACK_LEFT/n013-2018-08-03-14-44-49+0800__CAM_BACK_LEFT__1533278795447155.jpg', 'fileformat': 'jpg', 'width': 1600, 'height': 900, 'timestamp': 1533278795447155, 'is_key_frame': True, 'prev': '20974c9684ae4b5d812604e099d433e2', 'next': 'ca3edcbb46d041a4a2662d91ab68b59d'}\n",
      "{'token': 'd626e96768f44c2890c2a5693dd11ec4', 'timestamp': 1533278795447155, 'log_token': '78efd5be969c49408d05be9bde5f7dff', 'key_camera_token': '003bf191da774ac3b7c47e44075d9cf9'}\n"
     ]
    }
   ],
   "source": [
    "print(len(nuim.sample_data))\n",
    "sample_data = nuim.sample_data[0]\n",
    "print(sample_data)\n",
    "sample = nuim.get('sample', sample_data['sample_token'])\n",
    "print(sample)"
   ],
   "metadata": {
    "collapsed": false,
    "ExecuteTime": {
     "end_time": "2024-03-14T20:52:34.979894Z",
     "start_time": "2024-03-14T20:52:34.965832Z"
    }
   },
   "id": "5a682e188d2374c4",
   "execution_count": 3
  },
  {
   "cell_type": "code",
   "outputs": [
    {
     "name": "stdout",
     "output_type": "stream",
     "text": [
      "Loaded 506 object_ann(s) in 0.001s,\n",
      "Loaded 58 surface_ann(s) in 0.001s,\n",
      "Loaded 25 category(s) in 0.000s,\n",
      "Printing object annotations:\n",
      "251cb138f0134f038b37e272a3ff88e6 movable_object.trafficcone []\n",
      "316f3c05a5504645ad5386fa163dabc1 movable_object.trafficcone []\n",
      "Loaded 12 attribute(s) in 0.000s,\n",
      "3c0d82b43553483da5eaa27fe2b55191 human.pedestrian.adult ['pedestrian.moving']\n",
      "52fed413d7884bbea9282c104eb08910 movable_object.trafficcone []\n",
      "742a7338b39d4f37bf40a8efbed821c7 movable_object.trafficcone []\n",
      "907f9030cd004e29924c934aefeefc31 vehicle.car ['vehicle.moving']\n",
      "b77ad8098ff141b1ab446e86234279e7 movable_object.pushable_pullable []\n",
      "b9508913a5254fa28a7ae23acd10fd75 human.pedestrian.adult ['pedestrian.moving']\n",
      "\n",
      "Printing surface annotations:\n",
      "1cdeb11888c85629b0d4dbf6c042a1ee flat.driveable_surface\n"
     ]
    }
   ],
   "source": [
    "object_tokens, _ = nuim.list_anns(sample['token'])"
   ],
   "metadata": {
    "collapsed": false,
    "ExecuteTime": {
     "end_time": "2024-03-14T20:52:35.474055Z",
     "start_time": "2024-03-14T20:52:35.459438Z"
    }
   },
   "id": "2139f4d337f20ecb",
   "execution_count": 4
  },
  {
   "cell_type": "code",
   "outputs": [
    {
     "name": "stdout",
     "output_type": "stream",
     "text": [
      "samples/CAM_BACK_LEFT/n013-2018-08-03-14-44-49+0800__CAM_BACK_LEFT__1533278795447155.jpg\n",
      "/home/jiachen/nuImages/data/nuimages/samples/CAM_BACK_LEFT/n013-2018-08-03-14-44-49+0800__CAM_BACK_LEFT__1533278795447155.jpg\n"
     ]
    }
   ],
   "source": [
    "import os\n",
    "file_path = sample_data['filename']\n",
    "print(file_path)\n",
    "dataroot=CONF.PATH.DATA\n",
    "img_path = os.path.join(dataroot, file_path)\n",
    "print(img_path)"
   ],
   "metadata": {
    "collapsed": false,
    "ExecuteTime": {
     "end_time": "2024-03-14T20:52:42.082123Z",
     "start_time": "2024-03-14T20:52:42.069271Z"
    }
   },
   "id": "1d19b851472ca150",
   "execution_count": 7
  },
  {
   "cell_type": "code",
   "outputs": [
    {
     "name": "stdout",
     "output_type": "stream",
     "text": [
      "{'token': '907f9030cd004e29924c934aefeefc31', 'category_token': 'fd69059b62a3469fbaef25340c0eab7f', 'bbox': [808, 334, 1133, 498], 'mask': {'size': [900, 1600], 'counts': 'VF1XZjA3ZWswOE4yTzFOMk4yalRPXU9qajBkMFFVT0FtajBsME8xTjJOMk8xTzFOMl1PZE5dVk9eMWJpMGJOXVZPXzFjaTBiTltWT18xZWkwYk5ZVk9fMWdpMGFOV1ZPYTFpaTBgTlVWT2ExamkwYE5VVk9hMWtpMGBOU1ZPYTFtaTBgTlBWT2IxUGowXk5vVU9TMmFpMFgxUE9gMF9PMTAwMDAwMDAwMDAwMDAwMDAwMDAwMDAwME8xMEw0STdNMzAwMDAwMDAwMU8wMDAwME8xMDFPMDAwMDAwMDAwMDFPMDAwMDAwMDAwMDFPMDAwMDAwMDAwMDFPMDAwMDAwMDAxTzAwMDAwMDAwMDAxTzAwMDAwMDAwMDAxTzAwMDAwMDAwMDAxTzAwMDAwMDAwMU8wMDAwMDAwMDAwMU8wMDAwMDAwMDAwMU8wMDAwMDAwMDFPMDAwMDAwMDAwMDFPMDAwMDAwMDAwMDFPMDAwMDAwMDFPMDFPMDAwMDAwMDAxTzAwMDAwMDAwMDAxTzFPMU8xTzJOMU8xTzFPMDAwMDAwMDAwMDAwMDAwMDAwMDAwMDAwMDAwMDAwMk4xTzJOMU8yTjJOMU8yTjFPMDAwMDFPMDAwMDFPMDFPMDFPMDFPMDFPTzJPMDAxTzAwMDAxTzAwMDAxTzAwMDAxTzAwMU8wMDFPMDAxTzAwMU4xTjNOMU4zTjFOM04xMDFPMDAxTzAwMU4xMDFPMU8wMDFPMDAxTzAwMU8wMDFPMDAxTzAwMU8wMDFPMDEwTzAwMU8wMDFPMDAxTzAwMU8xTzAwMU8xME9PMk8xTzAwMU4yTzAwMU8xTzBPMk8xTzAwMU4yTzAwMU8xTzBPMk8xTzAwMU4yTzAwMU8wMDFOMk8wMDFPMDAxTzBPMk8xTzAwMU8wTzJPMDAxTzAwMU8xTjEwMU8wMDFPMU4yTzJOMU8xTzFPMU4zTjFPMU8yTjJNNE0zTTJOM00zTTJNN0o5RzlHNkpTbGo8'}, 'attribute_tokens': ['abc0f113547848a9baaa62096fca37f5'], 'sample_data_token': '003bf191da774ac3b7c47e44075d9cf9'}\n"
     ]
    }
   ],
   "source": [
    "object = nuim.get('object_ann', object_tokens[5])\n",
    "print(object)"
   ],
   "metadata": {
    "collapsed": false,
    "ExecuteTime": {
     "end_time": "2024-03-14T20:52:42.894902Z",
     "start_time": "2024-03-14T20:52:42.882403Z"
    }
   },
   "id": "3502697334c0af96",
   "execution_count": 8
  },
  {
   "cell_type": "code",
   "outputs": [
    {
     "name": "stdout",
     "output_type": "stream",
     "text": [
      "[{'token': '63a94dfa99bb47529567cd90d3b58384', 'name': 'animal', 'description': 'All animals, e.g. cats, rats, dogs, deer, birds.'}, {'token': 'a86329ee68a0411fb426dcad3b21452f', 'name': 'flat.driveable_surface', 'description': 'Surfaces should be regarded with no concern of traffic rules, lanes etc. Exclude any road obstacles. This includes paved and unpaved surfaces'}, {'token': '1fa93b757fc74fb197cdd60001ad8abf', 'name': 'human.pedestrian.adult', 'description': 'Adult subcategory.'}, {'token': 'b1c6de4c57f14a5383d9f963fbdcb5cb', 'name': 'human.pedestrian.child', 'description': 'Child subcategory.'}, {'token': '909f1237d34a49d6bdd27c2fe4581d79', 'name': 'human.pedestrian.construction_worker', 'description': 'Construction worker'}, {'token': '403fede16c88426885dd73366f16c34a', 'name': 'human.pedestrian.personal_mobility', 'description': 'A small electric or self-propelled vehicle, e.g. skateboard, segway, or scooters, on which the person typically travels in a upright position. Driver and (if applicable) rider should be included in the bounding box along with the vehicle.'}, {'token': 'e3c7da112cd9475a9a10d45015424815', 'name': 'human.pedestrian.police_officer', 'description': 'Police officer.'}, {'token': '6a5888777ca14867a8aee3fe539b56c4', 'name': 'human.pedestrian.stroller', 'description': 'Strollers. If a person is in the stroller, include in the annotation.'}, {'token': 'b2d7c6c701254928a9e4d6aac9446d79', 'name': 'human.pedestrian.wheelchair', 'description': 'Wheelchairs. If a person is in the wheelchair, include in the annotation.'}, {'token': '653f7efbb9514ce7b81d44070d6208c1', 'name': 'movable_object.barrier', 'description': 'Temporary road barrier placed in the scene in order to redirect traffic. Commonly used at construction sites. This includes concrete barrier, metal barrier and water barrier. No fences.'}, {'token': '063c5e7f638343d3a7230bc3641caf97', 'name': 'movable_object.debris', 'description': 'Movable object that is left on the driveable surface that is too large to be driven over safely, e.g tree branch, full trash bag etc.'}, {'token': 'd772e4bae20f493f98e15a76518b31d7', 'name': 'movable_object.pushable_pullable', 'description': 'Objects that a pedestrian may push or pull. For example dolleys, wheel barrows, garbage-bins, or shopping carts.'}, {'token': '85abebdccd4d46c7be428af5a6173947', 'name': 'movable_object.trafficcone', 'description': 'All types of traffic cone.'}, {'token': '0a30519ee16a4619b4f4acfe2d78fb55', 'name': 'static_object.bicycle_rack', 'description': 'Area or device intended to park or secure the bicycles in a row. It includes all the bikes parked in it and any empty slots that are intended for parking bikes.'}, {'token': 'fc95c87b806f48f8a1faea2dcc2222a4', 'name': 'vehicle.bicycle', 'description': 'Human or electric powered 2-wheeled vehicle designed to travel at lower speeds either on road surface, sidewalks or bike paths.'}, {'token': '003edbfb9ca849ee8a7496e9af3025d4', 'name': 'vehicle.bus.bendy', 'description': 'Bendy bus subcategory. Annotate each section of the bendy bus individually.'}, {'token': 'fedb11688db84088883945752e480c2c', 'name': 'vehicle.bus.rigid', 'description': 'Rigid bus subcategory.'}, {'token': 'fd69059b62a3469fbaef25340c0eab7f', 'name': 'vehicle.car', 'description': 'Vehicle designed primarily for personal use, e.g. sedans, hatch-backs, wagons, vans, mini-vans, SUVs and jeeps. If the vehicle is designed to carry more than 10 people use vehicle.bus. If it is primarily designed to haul cargo use vehicle.truck. '}, {'token': '5b3cd6f2bca64b83aa3d0008df87d0e4', 'name': 'vehicle.construction', 'description': 'Vehicles primarily designed for construction. Typically very slow moving or stationary. Cranes and extremities of construction vehicles are only included in annotations if they interfere with traffic. Trucks used to haul rocks or building materials are considered vehicle.truck rather than construction vehicles.'}, {'token': '7754874e6d0247f9855ae19a4028bf0e', 'name': 'vehicle.ego', 'description': 'Ego vehicle.'}, {'token': '732cce86872640628788ff1bb81006d4', 'name': 'vehicle.emergency.ambulance', 'description': 'All types of ambulances.'}, {'token': '7b2ff083a64e4d53809ae5d9be563504', 'name': 'vehicle.emergency.police', 'description': 'All types of police vehicles including police bicycles and motorcycles.'}, {'token': 'dfd26f200ade4d24b540184e16050022', 'name': 'vehicle.motorcycle', 'description': 'Gasoline or electric powered 2-wheeled vehicle designed to move rapidly (at the speed of standard cars) on the road surface. This category includes all motorcycles, vespas and scooters.'}, {'token': '90d0f6f8e7c749149b1b6c3a029841a8', 'name': 'vehicle.trailer', 'description': 'Any vehicle trailer, both for trucks, cars and bikes.'}, {'token': '6021b5187b924d64be64a702e5570edf', 'name': 'vehicle.truck', 'description': 'Vehicles primarily designed to haul cargo including pick-ups, lorrys, trucks and semi-tractors. Trailers hauled after a semi-tractor should be labeled as vehicle.trailer'}]\n",
      "'63a94dfa99bb47529567cd90d3b58384': 0,\n",
      "'a86329ee68a0411fb426dcad3b21452f': 1,\n",
      "'1fa93b757fc74fb197cdd60001ad8abf': 2,\n",
      "'b1c6de4c57f14a5383d9f963fbdcb5cb': 3,\n",
      "'909f1237d34a49d6bdd27c2fe4581d79': 4,\n",
      "'403fede16c88426885dd73366f16c34a': 5,\n",
      "'e3c7da112cd9475a9a10d45015424815': 6,\n",
      "'6a5888777ca14867a8aee3fe539b56c4': 7,\n",
      "'b2d7c6c701254928a9e4d6aac9446d79': 8,\n",
      "'653f7efbb9514ce7b81d44070d6208c1': 9,\n",
      "'063c5e7f638343d3a7230bc3641caf97': 10,\n",
      "'d772e4bae20f493f98e15a76518b31d7': 11,\n",
      "'85abebdccd4d46c7be428af5a6173947': 12,\n",
      "'0a30519ee16a4619b4f4acfe2d78fb55': 13,\n",
      "'fc95c87b806f48f8a1faea2dcc2222a4': 14,\n",
      "'003edbfb9ca849ee8a7496e9af3025d4': 15,\n",
      "'fedb11688db84088883945752e480c2c': 16,\n",
      "'fd69059b62a3469fbaef25340c0eab7f': 17,\n",
      "'5b3cd6f2bca64b83aa3d0008df87d0e4': 18,\n",
      "'7754874e6d0247f9855ae19a4028bf0e': 19,\n",
      "'732cce86872640628788ff1bb81006d4': 20,\n",
      "'7b2ff083a64e4d53809ae5d9be563504': 21,\n",
      "'dfd26f200ade4d24b540184e16050022': 22,\n",
      "'90d0f6f8e7c749149b1b6c3a029841a8': 23,\n",
      "'6021b5187b924d64be64a702e5570edf': 24,\n",
      "0: 'animal',\n",
      "1: 'flat.driveable_surface',\n",
      "2: 'human.pedestrian.adult',\n",
      "3: 'human.pedestrian.child',\n",
      "4: 'human.pedestrian.construction_worker',\n",
      "5: 'human.pedestrian.personal_mobility',\n",
      "6: 'human.pedestrian.police_officer',\n",
      "7: 'human.pedestrian.stroller',\n",
      "8: 'human.pedestrian.wheelchair',\n",
      "9: 'movable_object.barrier',\n",
      "10: 'movable_object.debris',\n",
      "11: 'movable_object.pushable_pullable',\n",
      "12: 'movable_object.trafficcone',\n",
      "13: 'static_object.bicycle_rack',\n",
      "14: 'vehicle.bicycle',\n",
      "15: 'vehicle.bus.bendy',\n",
      "16: 'vehicle.bus.rigid',\n",
      "17: 'vehicle.car',\n",
      "18: 'vehicle.construction',\n",
      "19: 'vehicle.ego',\n",
      "20: 'vehicle.emergency.ambulance',\n",
      "21: 'vehicle.emergency.police',\n",
      "22: 'vehicle.motorcycle',\n",
      "23: 'vehicle.trailer',\n",
      "24: 'vehicle.truck',\n",
      "'animal', 'flat.driveable_surface', 'human.pedestrian.adult', 'human.pedestrian.child', 'human.pedestrian.construction_worker', 'human.pedestrian.personal_mobility', 'human.pedestrian.police_officer', 'human.pedestrian.stroller', 'human.pedestrian.wheelchair', 'movable_object.barrier', 'movable_object.debris', 'movable_object.pushable_pullable', 'movable_object.trafficcone', 'static_object.bicycle_rack', 'vehicle.bicycle', 'vehicle.bus.bendy', 'vehicle.bus.rigid', 'vehicle.car', 'vehicle.construction', 'vehicle.ego', 'vehicle.emergency.ambulance', 'vehicle.emergency.police', 'vehicle.motorcycle', 'vehicle.trailer', 'vehicle.truck', "
     ]
    }
   ],
   "source": [
    "list = nuim.category\n",
    "print(nuim.category)\n",
    "for i in range(len(list)):\n",
    "    print(f\"'{list[i]['token']}': {i},\")\n",
    "\n",
    "for i in range(len(list)):\n",
    "    print(f\"{i}: '{list[i]['name']}',\") \n",
    "    \n",
    "for i in range(len(list)):\n",
    "    print(f\"'{list[i]['name']}',\", end=' ') "
   ],
   "metadata": {
    "collapsed": false,
    "ExecuteTime": {
     "end_time": "2024-03-14T20:54:00.721371Z",
     "start_time": "2024-03-14T20:54:00.708176Z"
    }
   },
   "id": "26f7e5cda6bcbef9",
   "execution_count": 11
  },
  {
   "cell_type": "code",
   "outputs": [],
   "source": [
    "import cv2\n",
    "\n",
    "def display_image_with_bbox(image_path, bbox):\n",
    "    # 读取图像\n",
    "    image = cv2.imread(image_path)\n",
    "    \n",
    "    # 提取 bounding box 的坐标\n",
    "    xmin, ymin, xmax, ymax = bbox\n",
    "    \n",
    "    # 在图像上绘制 bounding box\n",
    "    cv2.rectangle(image, (int(xmin), int(ymin)), (int(xmax), int(ymax)), (0, 255, 0), 2)\n",
    "    \n",
    "    # 显示图像\n",
    "    cv2.imshow('Image with Bounding Box', image)\n",
    "    cv2.waitKey(0)\n",
    "    cv2.destroyAllWindows()\n",
    "\n",
    "# 图片路径\n",
    "image_path = img_path\n",
    "\n",
    "# bounding box 坐标 [xmin, ymin, xmax, ymax]\n",
    "bbox = object['bbox']\n",
    "\n",
    "# 显示图像及 bounding box\n",
    "display_image_with_bbox(image_path, bbox)\n"
   ],
   "metadata": {
    "collapsed": false,
    "ExecuteTime": {
     "end_time": "2024-03-14T20:52:46.462126Z",
     "start_time": "2024-03-14T20:52:44.805651Z"
    }
   },
   "id": "1498989ae46d5300",
   "execution_count": 10
  },
  {
   "cell_type": "code",
   "outputs": [],
   "source": [
    "import matplotlib.pyplot as plt\n",
    "import matplotlib.image as mpimg\n",
    "\n",
    "# 读取图片\n",
    "img = mpimg.imread(img_path)\n",
    "\n",
    "# 创建一个新的图形\n",
    "fig, ax = plt.subplots()\n",
    "\n",
    "# 显示图片\n",
    "ax.imshow(img)\n",
    "\n",
    "# 添加坐标轴\n",
    "plt.xlabel('X Axis')\n",
    "plt.ylabel('Y Axis')\n",
    "\n",
    "# 显示bbox\n",
    "# 假设bbox为(xmin, ymin, xmax, ymax)\n",
    "bbox = object['bbox']  # 示例bbox坐标\n",
    "rect = plt.Rectangle((bbox[0], bbox[1]), bbox[2]-bbox[0], bbox[3]-bbox[1], edgecolor='r', facecolor='none')\n",
    "ax.add_patch(rect)\n",
    "\n",
    "# 显示\n",
    "plt.show()\n"
   ],
   "metadata": {
    "collapsed": false
   },
   "id": "89f7d92c231e3a29",
   "execution_count": null
  },
  {
   "cell_type": "code",
   "outputs": [],
   "source": [
    "import matplotlib.pyplot as plt\n",
    "import matplotlib.image as mpimg\n",
    "\n",
    "def convert_bbox_to_normalized(bbox, image_shape):\n",
    "    \"\"\"\n",
    "    Convert bounding box format from (xmin, ymin, xmax, ymax) to normalized (x_center, y_center, width, height).\n",
    "    \"\"\"\n",
    "    xmin, ymin, xmax, ymax = bbox\n",
    "    img_height, img_width = image_shape\n",
    "    x_center = (xmin + xmax) / (2 * img_width)\n",
    "    y_center = (ymin + ymax) / (2 * img_height)\n",
    "    width = (xmax - xmin) / img_width\n",
    "    height = (ymax - ymin) / img_height\n",
    "    return (x_center, y_center, width, height)\n",
    "\n",
    "obj_bbox = object['bbox']\n",
    "img_size = object['mask']['size']\n",
    "normalized_obj_bbox = convert_bbox_to_normalized(obj_bbox, img_size)\n",
    "# 读取图片\n",
    "img = mpimg.imread(img_path)\n",
    "\n",
    "# 创建一个新的图形\n",
    "fig, ax = plt.subplots()\n",
    "\n",
    "# 显示图片\n",
    "ax.imshow(img)\n",
    "\n",
    "# 添加坐标轴\n",
    "plt.xlabel('X Axis')\n",
    "plt.ylabel('Y Axis')\n",
    "\n",
    "# 显示归一化的bbox\n",
    "bbox_norm = normalized_obj_bbox  # 示例归一化bbox坐标\n",
    "img_height, img_width, _ = img.shape\n",
    "x_center = bbox_norm[0] * img_width\n",
    "y_center = bbox_norm[1] * img_height\n",
    "w = bbox_norm[2] * img_width\n",
    "h = bbox_norm[3] * img_height\n",
    "x_min = x_center - w / 2\n",
    "y_min = y_center - h / 2\n",
    "rect = plt.Rectangle((x_min, y_min), w, h, edgecolor='r', facecolor='none')\n",
    "ax.add_patch(rect)\n",
    "\n",
    "# 显示\n",
    "plt.show()\n"
   ],
   "metadata": {
    "collapsed": false
   },
   "id": "c41322617ef93509",
   "execution_count": null
  },
  {
   "cell_type": "code",
   "outputs": [],
   "source": [
    "object = nuim.get('object_ann', '0814a58ff2ce427a9efddb3ef70b490d')\n",
    "sample_data = nuim.get('sample_data', '4afb21eec056459f87f22525eb9b59b2')\n",
    "print(sample_data)\n"
   ],
   "metadata": {
    "collapsed": false
   },
   "id": "e3bed8811693afe",
   "execution_count": null
  },
  {
   "cell_type": "code",
   "outputs": [],
   "source": [
    "nuim.render_image('4afb21eec056459f87f22525eb9b59b2', annotation_type='all',\n",
    "                  with_category=True, with_attributes=True, box_line_width=-1, render_scale=5)"
   ],
   "metadata": {
    "collapsed": false
   },
   "id": "43a1215f9b3f7590",
   "execution_count": null
  },
  {
   "cell_type": "code",
   "outputs": [],
   "source": [],
   "metadata": {
    "collapsed": false
   },
   "id": "2222d387f4968472"
  }
 ],
 "metadata": {
  "kernelspec": {
   "display_name": "Python 3",
   "language": "python",
   "name": "python3"
  },
  "language_info": {
   "codemirror_mode": {
    "name": "ipython",
    "version": 2
   },
   "file_extension": ".py",
   "mimetype": "text/x-python",
   "name": "python",
   "nbconvert_exporter": "python",
   "pygments_lexer": "ipython2",
   "version": "2.7.6"
  }
 },
 "nbformat": 4,
 "nbformat_minor": 5
}
